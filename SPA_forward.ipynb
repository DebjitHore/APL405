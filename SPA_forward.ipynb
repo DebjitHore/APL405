{
  "cells": [
    {
      "cell_type": "markdown",
      "metadata": {
        "id": "view-in-github",
        "colab_type": "text"
      },
      "source": [
        "<a href=\"https://colab.research.google.com/github/DebjitHore/APL405/blob/main/SPA_forward.ipynb\" target=\"_parent\"><img src=\"https://colab.research.google.com/assets/colab-badge.svg\" alt=\"Open In Colab\"/></a>"
      ]
    },
    {
      "cell_type": "code",
      "execution_count": 5,
      "id": "86f7ef7c",
      "metadata": {
        "id": "86f7ef7c"
      },
      "outputs": [],
      "source": [
        "import os\n",
        "import tensorflow as tf\n",
        "from tensorflow import keras\n",
        "import pandas as pd\n",
        "import matplotlib.pyplot as plt\n",
        "import numpy as np\n",
        "from tensorflow.keras import Sequential\n",
        "from tensorflow.keras.layers import Dense\n",
        "import io"
      ]
    },
    {
      "cell_type": "code",
      "execution_count": 6,
      "id": "fd756435",
      "metadata": {
        "id": "fd756435"
      },
      "outputs": [],
      "source": [
        "# input dimensions and inital parameters\n",
        "in_dim = 8\n",
        "do = 0.5\n",
        "out_dim = 1\n",
        "tolerance = 1e-8\n",
        "start = np.random.randn(in_dim)"
      ]
    },
    {
      "cell_type": "code",
      "execution_count": 7,
      "id": "131b1e8d",
      "metadata": {
        "colab": {
          "base_uri": "https://localhost:8080/"
        },
        "id": "131b1e8d",
        "outputId": "66fc6618-8850-4b63-9cca-22181ac770d4"
      },
      "outputs": [
        {
          "output_type": "stream",
          "name": "stdout",
          "text": [
            "Model: \"sequential_1\"\n",
            "_________________________________________________________________\n",
            " Layer (type)                Output Shape              Param #   \n",
            "=================================================================\n",
            " dense_3 (Dense)             (None, 37)                333       \n",
            "                                                                 \n",
            " dense_4 (Dense)             (None, 29)                1102      \n",
            "                                                                 \n",
            " dense_5 (Dense)             (None, 1)                 30        \n",
            "                                                                 \n",
            "=================================================================\n",
            "Total params: 1,465\n",
            "Trainable params: 1,465\n",
            "Non-trainable params: 0\n",
            "_________________________________________________________________\n"
          ]
        }
      ],
      "source": [
        "# original model\n",
        "model = Sequential([\n",
        "    tf.keras.layers.Dense(37, activation = 'relu', input_shape = (8,)),\n",
        "    tf.keras.layers.Dense(29, activation = 'relu'),\n",
        "    tf.keras.layers.Dense(1, activation = 'sigmoid')\n",
        "])\n",
        "\n",
        "model.compile(loss=tf.keras.losses.mse,\n",
        "              optimizer= tf.keras.optimizers.Adam(),\n",
        "              metrics=[\"mae\"])\n",
        "model.summary()"
      ]
    },
    {
      "cell_type": "code",
      "execution_count": 8,
      "id": "88db6cee",
      "metadata": {
        "id": "88db6cee"
      },
      "outputs": [],
      "source": [
        "# training data\n",
        "path1 = '/content/train_data.csv'\n",
        "data1 = pd.read_csv(path1)\n",
        "data1 = data1.sample(frac =1)\n",
        "d = data1.to_numpy()\n",
        "y = d[:,0]\n",
        "y=y/(np.max(y))\n",
        "x = d[:,1:9]\n",
        "\n"
      ]
    },
    {
      "cell_type": "code",
      "source": [
        "for i in range(0, 8):\n",
        "  x[:,i]= x[:,i]/(np.max(x[:,i]))\n"
      ],
      "metadata": {
        "id": "OfyF-opnYvC3"
      },
      "id": "OfyF-opnYvC3",
      "execution_count": 9,
      "outputs": []
    },
    {
      "cell_type": "code",
      "execution_count": 12,
      "id": "23f97825",
      "metadata": {
        "id": "23f97825"
      },
      "outputs": [],
      "source": [
        "# testing data\n",
        "path2 = '/content/test_data.csv'\n",
        "data2 = pd.read_csv(path2)\n",
        "data2 = data2.sample(frac =1)\n",
        "d1 = data2.to_numpy()\n",
        "y1 = d1[:,0]\n",
        "y1=y1/(np.max(y1))\n",
        "x1 = d1[:,1:9]"
      ]
    },
    {
      "cell_type": "code",
      "source": [
        "for i in range(0, 8):\n",
        "  x1[:,i]= x1[:,i]/(np.max(x1[:,i]))\n"
      ],
      "metadata": {
        "id": "1qD9d65JaH7Q"
      },
      "id": "1qD9d65JaH7Q",
      "execution_count": 13,
      "outputs": []
    },
    {
      "cell_type": "code",
      "execution_count": 14,
      "id": "720b860b",
      "metadata": {
        "colab": {
          "base_uri": "https://localhost:8080/",
          "height": 295
        },
        "id": "720b860b",
        "outputId": "fdfcc48d-43ed-4533-80d7-b3c17cfabe66"
      },
      "outputs": [
        {
          "output_type": "display_data",
          "data": {
            "text/plain": [
              "<Figure size 432x288 with 1 Axes>"
            ],
            "image/png": "[encoded data removed]"
          },
          "metadata": {
            "needs_background": "light"
          }
        }
      ],
      "source": [
        "\n",
        "\n",
        "# original model\n",
        "history = model.fit(x, y, epochs = 5000, verbose =0)\n",
        "\n",
        "# sigmoid, sigmoid, relu\n",
        "pd.DataFrame(history.history).plot()\n",
        "plt.title('model loss')\n",
        "plt.ylabel('loss')\n",
        "plt.xlabel('epochs')\n",
        "plt.show()"
      ]
    },
    {
      "cell_type": "code",
      "execution_count": 15,
      "id": "65e982df",
      "metadata": {
        "colab": {
          "base_uri": "https://localhost:8080/"
        },
        "id": "65e982df",
        "outputId": "011643ec-60c7-4968-ba3a-3886707b1a31"
      },
      "outputs": [
        {
          "output_type": "stream",
          "name": "stdout",
          "text": [
            "1/1 [==============================] - 0s 439ms/step - loss: 0.2255 - mae: 0.3920\n"
          ]
        },
        {
          "output_type": "execute_result",
          "data": {
            "text/plain": [
              "[0.22545655071735382, 0.3919556438922882]"
            ]
          },
          "metadata": {},
          "execution_count": 15
        }
      ],
      "source": [
        "model.evaluate(x1, y1)"
      ]
    },
    {
      "cell_type": "code",
      "source": [
        ""
      ],
      "metadata": {
        "id": "o-c9iAFTb24c"
      },
      "id": "o-c9iAFTb24c",
      "execution_count": null,
      "outputs": []
    }
  ],
  "metadata": {
    "kernelspec": {
      "display_name": "Python 3 (ipykernel)",
      "language": "python",
      "name": "python3"
    },
    "language_info": {
      "codemirror_mode": {
        "name": "ipython",
        "version": 3
      },
      "file_extension": ".py",
      "mimetype": "text/x-python",
      "name": "python",
      "nbconvert_exporter": "python",
      "pygments_lexer": "ipython3",
      "version": "3.9.12"
    },
    "colab": {
      "name": "SPA_forward.ipynb",
      "provenance": [],
      "include_colab_link": true
    },
    "accelerator": "GPU",
    "gpuClass": "standard"
  },
  "nbformat": 4,
  "nbformat_minor": 5
}